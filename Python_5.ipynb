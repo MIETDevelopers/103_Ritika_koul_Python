{
  "nbformat": 4,
  "nbformat_minor": 0,
  "metadata": {
    "colab": {
      "provenance": [],
      "authorship_tag": "ABX9TyMuq96A74Sb4iYq8FpM/4jY",
      "include_colab_link": true
    },
    "kernelspec": {
      "name": "python3",
      "display_name": "Python 3"
    },
    "language_info": {
      "name": "python"
    }
  },
  "cells": [
    {
      "cell_type": "markdown",
      "metadata": {
        "id": "view-in-github",
        "colab_type": "text"
      },
      "source": [
        "<a href=\"https://colab.research.google.com/github/Aniketbandral/002_Anikait_COM_511/blob/main/Python_5.ipynb\" target=\"_parent\"><img src=\"https://colab.research.google.com/assets/colab-badge.svg\" alt=\"Open In Colab\"/></a>"
      ]
    },
    {
      "cell_type": "markdown",
      "source": [
        "Given a Matrix, the task is to write python program to reverse every Kth row. Where, K is\n",
        "some span value. **bold text**"
      ],
      "metadata": {
        "id": "hdvOOh5iiyxq"
      }
    },
    {
      "cell_type": "code",
      "source": [
        "lst=[[5,6,2],[25,4,13],[4,6,3],[7,40,4],[9,7,8],[5,3,1]]\n",
        "\n",
        "print('Original list is',lst)\n",
        "k=int(input('Enter the index no:'))\n",
        "new_lst=[]\n",
        "for i,ele in enumerate(lst):\n",
        "    if i%k==0:\n",
        "        new_lst.append(list(reversed(ele)))  \n",
        "    else:\n",
        "        new_lst.append(ele)\n",
        "\n",
        "print(\"After reversing:\",new_lst)"
      ],
      "metadata": {
        "colab": {
          "base_uri": "https://localhost:8080/"
        },
        "id": "zrcyQKODisHj",
        "outputId": "77d1c86b-2327-4f26-812f-14387de01845"
      },
      "execution_count": 66,
      "outputs": [
        {
          "output_type": "stream",
          "name": "stdout",
          "text": [
            "Original list is [[5, 6, 2], [25, 4, 13], [4, 6, 3], [7, 40, 4], [9, 7, 8], [5, 3, 1]]\n",
            "Enter the index no:2\n",
            "After reversing: [[2, 6, 5], [25, 4, 13], [3, 6, 4], [7, 40, 4], [8, 7, 9], [5, 3, 1]]\n"
          ]
        }
      ]
    },
    {
      "cell_type": "code",
      "source": [],
      "metadata": {
        "id": "ubhCj-3wis4R"
      },
      "execution_count": null,
      "outputs": []
    },
    {
      "cell_type": "code",
      "source": [],
      "metadata": {
        "id": "OeQIOEjci00y"
      },
      "execution_count": null,
      "outputs": []
    }
  ]
}